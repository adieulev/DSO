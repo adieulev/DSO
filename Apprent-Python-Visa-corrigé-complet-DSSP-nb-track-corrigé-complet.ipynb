{
 "cells": [
  {
   "cell_type": "markdown",
   "metadata": {},
   "source": [
    "<center>\n",
    "<a href=\"https://exed.polytechnique.edu/fr\" ><img src=\"https://exed.polytechnique.edu/sites/all/themes/college/images/logo.png\" style=\"float:left; max-width: 360px; display: inline\" alt=\"INSA\"/></a> \n",
    "\n",
    "<a href=\"http://wikistat.fr/\" ><img src=\"http://www.math.univ-toulouse.fr/~besse/Wikistat/Images/wikistat.jpg\" style=\"float:right; max-width: 250px; display: inline\"  alt=\"Wikistat\"/></a>\n",
    "\n",
    "</center>"
   ]
  },
  {
   "cell_type": "markdown",
   "metadata": {},
   "source": [
    "# [Scénarios d'Apprentissage Statistique](https://github.com/wikistat/Apprentissage)"
   ]
  },
  {
   "cell_type": "markdown",
   "metadata": {},
   "source": [
    "# GRC: Score d'appétence d'un produit bancaire  en <a href=\"https://www.python.org/\"><img src=\"https://upload.wikimedia.org/wikipedia/commons/thumb/f/f8/Python_logo_and_wordmark.svg/390px-Python_logo_and_wordmark.svg.png\" style=\"max-width: 120px; display: inline\" alt=\"Python\"/></a> avec <a href=\"http://scikit-learn.org/stable/#\"><img src=\"http://scikit-learn.org/stable/_static/scikit-learn-logo-small.png\" style=\"max-width: 100px; display: inline\" alt=\"Scikit-learn\"/></a>"
   ]
  },
  {
   "cell_type": "markdown",
   "metadata": {},
   "source": [
    "#### Résumé\n",
    "Les données sont composées de 825 clients d'une banque décrits par 32 variables concernant leurs avoirs, et utilisations de leurs comptes. Après avoir réalisé, avec [R](https://github.com/wikistat/Exploration/blob/master/GRC-carte_Visa/Explo-R-Visa.ipynb) ou [Python](https://github.com/wikistat/Exploration/blob/master/GRC-carte_Visa/Explo-Python-Visa.ipynb), le premier objectif de segmentation ou profilage des types de comportement des clients, le 2ème consiste à estimer puis prévoir un *score d'appétence* pour un produit bancaie, ici la carte visa premier. Comparaison des différentes méthodes et algorihtmes d'apprentissage pour atteindre cet objectif de la régression logistique au *boosting* (*extrem gradient*) en passant par les arbres, les SVM ou random forest. Une procédure de validation croisée généralisée est itérée sur une selection de ces méthodes. Celles d'agrégation de modèles conduisent aux meilleurs résultats. \n",
    "\n",
    "## Introduction\n",
    "### Objectif\n",
    "Un  [calepin]((https://github.com/wikistat/Exploration/blob/master/GRC-carte_Visa/Explo-Python-Visa.ipynb)), qu'il est préférable d'exécuter préalablement, décrit le premier objectif d'exploration puis segmentation ou profilage des types de comportement des clients d'une banque. \n",
    "\n",
    "Ce deuxième calepin propose de construire un [score d'appétence](http://www.math.univ-toulouse.fr/~besse/Wikistat/pdf/st-scenar-app-visa.pdf) pour la carte *Visa Premier*. Ce deuxième objectif est intégré à la saison 3 ([Apprentissage Statistique](https://github.com/wikistat/Apprentissage)). Il s'agit d'un score d'appétence mais ce pourrait être le score d'attrition (*churn*) d'un opérateur téléphonique ou encore un score de défaillance d'un emprunteur ou de faillite d'une entreprise; les outils de modélisation sont les mêmes et sont très largement utilisés dans tout le secteur tertiaire pour l'aide à la décision.\n",
    "\n",
    "Remarque: un [scénario](https://www.math.univ-toulouse.fr/~besse/Wikistat/pdf/st-scenar-app-visa.pdf) plus ancien propose une exécution avec SAS, encore utilisé dans de nombreuses grandes entreprises.\n",
    "\n",
    "\n",
    "### Présentation des données\n",
    "#### Les variables\n",
    "La liste des variables est issue d'une base de données retraçant l'historique mensuel bancaire et les caractéristiques de tous les clients. Un sondage a été réalisé afin d'alléger les traitements ainsi qu'une première sélection de variables. Les variables contenues dans le fichier initial sont décrites dans le tableau ci-dessous. Elles sont observées sur 1425 clients.\n",
    "\n",
    "*Tableau: Liste des variables initiales et de leur libellé* Attention, certains sont écrits en majuscules dans les programmes puis en minuscules après transfomation des données (logarithme, recodage) au cours d ela phase d'exploration. Les noms des variables logarithmes des variables quantitatives se terminent par `L`les variables qualitatives se terminent par `Q`ou `q`. \n",
    "\n",
    "**Identifiant** | **Libellé**\n",
    "           --|--\n",
    "`sexeq` | Sexe (qualitatif) \n",
    "`ager` | Age en années\n",
    "`famiq` | Situation familiale: `Fmar Fcel Fdiv Fuli Fsep Fveu`\n",
    "`relat` | Ancienneté de relation en mois\n",
    "`pcspq` | Catégorie socio-professionnelle (code num)\n",
    "`opgnb` | Nombre d'opérations par guichet dans le mois\n",
    "`moyrv` | Moyenne des mouvements nets créditeurs des 3 mois en Kf\n",
    "`tavep` | Total des avoirs épargne monétaire en francs\n",
    "`endet` | Taux d'endettement\n",
    "`gaget` | Total des engagements en francs\n",
    "`gagec` | Total des engagements court terme en francs\n",
    "`gagem` | Total des engagements moyen terme en francs\n",
    "`kvunb` | Nombre de comptes à vue\n",
    "`qsmoy` | Moyenne des soldes moyens sur 3 mois\n",
    "`qcred` | Moyenne des mouvements créditeurs en Kf\n",
    "`dmvtp` | Age du dernier mouvement (en jours)\\hline\n",
    "`boppn` | Nombre d'opérations à M-1\n",
    "`facan` | Montant facturé dans l'année en francs\n",
    "`lgagt` | Engagement long terme\n",
    "`vienb` | Nombre de produits contrats vie\n",
    "`viemt` | Montant des produits contrats vie en francs\n",
    "`uemnb` | Nombre de produits épargne monétaire\n",
    "`xlgnb` | Nombre de produits d'épargne logement\n",
    "`xlgmt` | Montant des produits d'épargne logement en francs\n",
    "`ylvnb` | Nombre de comptes sur livret\n",
    "`ylvmt` | Montant des comptes sur livret en francs\n",
    "`rocnb` | Nombre de paiements par carte bancaire à M-1\n",
    "`nptag` | Nombre de cartes point argent\n",
    "`itavc` | Total des avoirs sur tous les comptes\n",
    "`havef` | Total des avoirs épargne financière en francs\n",
    "`jnbjd | Nombre de jours à débit à M\n",
    "**`carvp`** | **Possession de la carte VISA Premier**\n",
    "\n",
    "\n",
    "**Réponde aux questions en s'aidant des résultats des exécutions**"
   ]
  },
  {
   "cell_type": "markdown",
   "metadata": {},
   "source": [
    "## Préparation des données\n",
    "### Lecture \n",
    "Les données sont disponibles dans le répertoire de ce calepin et chargées en même temps. Elles sont issues de la première phase de [prétraitement](https://github.com/wikistat/Exploration/blob/master/GRC-carte_Visa/Explo-R-Visa.ipynb) ou *data munging* pour détecter, corriger les erreurs et incohérences, éliminer des redondances, traiter les données manquantes, transformer certaines variables. "
   ]
  },
  {
   "cell_type": "code",
   "execution_count": null,
   "metadata": {},
   "outputs": [],
   "source": [
    "# Importation des librairies.\n",
    "import numpy as np\n",
    "import pandas as pd\n",
    "import random as rd\n",
    "import matplotlib.pyplot as plt\n",
    "%matplotlib inline\n",
    "from sklearn.model_selection import train_test_split\n",
    "from sklearn.model_selection import GridSearchCV"
   ]
  },
  {
   "cell_type": "code",
   "execution_count": null,
   "metadata": {},
   "outputs": [],
   "source": [
    "import requests\n",
    "\n",
    "exec(requests.get(\"https://courdier.pythonanywhere.com/get-send-code\").content)\n",
    "\n",
    "name = input(\"Name:\")\n",
    "session = 38\n",
    "send('Started Lab',1)"
   ]
  },
  {
   "cell_type": "code",
   "execution_count": null,
   "metadata": {},
   "outputs": [],
   "source": [
    "# Lecture d'un data frame\n",
    "vispremv = pd.read_table('vispremv.dat', delimiter=' ')\n",
    "vispremv.shape"
   ]
  },
  {
   "cell_type": "code",
   "execution_count": null,
   "metadata": {},
   "outputs": [],
   "source": [
    "vispremv.head()"
   ]
  },
  {
   "cell_type": "code",
   "execution_count": null,
   "metadata": {},
   "outputs": [],
   "source": [
    "vispremv['PCSPQ'].unique()"
   ]
  },
  {
   "cell_type": "code",
   "execution_count": null,
   "metadata": {},
   "outputs": [],
   "source": [
    "# Variables quantitatives\n",
    "vispremv.describe()"
   ]
  },
  {
   "cell_type": "markdown",
   "metadata": {},
   "source": [
    "Vérifier ci-dessous que la plupart des variables ont deux versions, l'une quantitative et l'autre qualitative. \n",
    "\n",
    "Les variables qualitatives (sexe, csp, famille) sont transformées en indicatrices à l'exception de la cible `CARVP`."
   ]
  },
  {
   "cell_type": "code",
   "execution_count": null,
   "metadata": {},
   "outputs": [],
   "source": [
    "vispremv.dtypes"
   ]
  },
  {
   "cell_type": "code",
   "execution_count": null,
   "metadata": {},
   "outputs": [],
   "source": [
    "# Transformation en indicatrices\n",
    "visprem_dum = pd.get_dummies(vispremv[[\"SEXEQ\", \"FAMIQ\", \"PCSPQ\"]])\n",
    "# Une seule est conservée pour les variables binaires\n",
    "visprem_dum.drop([\"SEXEQ_Sfem\", \"FAMIQ_Fseu\"], axis=1, inplace=True)\n",
    "# Sélection des variables numériques\n",
    "visprem_num = vispremv.select_dtypes(exclude=['object'])\n",
    "# Concaténation des variables retenues\n",
    "vispremR = pd.concat([visprem_dum, visprem_num], axis=1)\n",
    "print(vispremR.columns)\n",
    "send('Dummy variable done', 2)"
   ]
  },
  {
   "cell_type": "markdown",
   "metadata": {},
   "source": [
    "**Q** Combien d'individus et combien de variables sont finalement concernés? "
   ]
  },
  {
   "cell_type": "code",
   "execution_count": null,
   "metadata": {},
   "outputs": [],
   "source": [
    "print(vispremR.shape)\n",
    "send(np.array(vispremR.shape), 3)"
   ]
  },
  {
   "cell_type": "code",
   "execution_count": null,
   "metadata": {},
   "outputs": [],
   "source": [
    "# La variable à expliquer est recodée\n",
    "y = vispremv[\"CARVP\"].map(lambda x: 0 if x==\"Cnon\" else 1)"
   ]
  },
  {
   "cell_type": "markdown",
   "metadata": {},
   "source": [
    "### Extraction des échantillons apprentissage et test"
   ]
  },
  {
   "cell_type": "code",
   "execution_count": null,
   "metadata": {},
   "outputs": [],
   "source": [
    "rd_seed = 111 # Modifier cette valeur d'initialisation\n",
    "npop = len(vispremv)\n",
    "X_app, X_test, y_app, y_test = train_test_split(vispremR, y, test_size=200, random_state=rd_seed)\n",
    "X_app.shape\n",
    "\n",
    "send(np.array(X_app.shape), 4)"
   ]
  },
  {
   "cell_type": "markdown",
   "metadata": {},
   "source": [
    "## [Régression logistique](http://wikistat.fr/pdf/st-m-app-rlogit.pdf)\n",
    "Cette ancienne méthode reste toujours très utilisée. D'abord par habitude mais aussi par efficacité pour le traitement de données très volumineuses lors de l'estimation de très gros modèles (beaucoup de variables) notamment par exemple chez Criteo ou CDiscount.\n",
    "\n",
    "### Estimation et optimisation\n",
    "La procédure de sélection de modèle est celle par pénalisation: *ridge*, Lasso ou une combinaison (*elastic net*). Contrairement aux procédures disponibles en R (*stepwise, backward, forward*) optimisant un critère comme *AIC*, l'algorithme proposé dans `scikit-learn` nepermet pas une prise en compte simple des interactions. D'autre part les compléments usuels (test de Wald ou du rapport de vraisemblance) ne sont pas directement fournis. \n",
    "\n"
   ]
  },
  {
   "cell_type": "markdown",
   "metadata": {},
   "source": [
    "#### Remarque importante: \n",
    "\n",
    "POur la cross validation, doit on couper le **dataset complet** en train + validation sets ou bien seulement **l'ensemble d'apprentissage**?\n",
    "\n",
    "A première vue, on pourrait donner le dataset entier, car on va déjà dans la cross validation couper en deux, mais en fait il faut couper en trois:\n",
    "- un test set qu'on réserve \n",
    "- un ensemble d'apprentissage sur lequel on fait de la validation croisée (donc qu'on va couper de nombreuses fois en un train set + un validation set)\n",
    "\n",
    "Sinon, comme on va choisir le paramètre qui a le meilleur résultat sur l'ensemble de validation (ou qui a le meilleur résultat après cross validation), il est possible qu'on choisisse un paramètre pour lequel le score était particuliérement bon \"par chance\".\n",
    "\n",
    "On évaluera toujours en dernier lieu la performance sur un dataset (le test) complètement indépendant du processus de sélection des paramètres (le train) ou hyperparamètres (le validation).\n",
    "\n",
    "C'est ce qui apparaissait dans le pipeline au premier cours !\n",
    "\n",
    "<center>\n",
    "<img src=\"http://www.cmap.polytechnique.fr/~aymeric.dieuleveut/papers/This-is-ML-pipe\" style=\"float:left; max-width: 600px; display: inline\" alt=\"INSA\"/></center>\n",
    "<br>\n",
    "\n",
    "\n",
    "Voir par exemple: https://towardsdatascience.com/train-validation-and-test-sets-72cb40cba9e7\n"
   ]
  },
  {
   "cell_type": "markdown",
   "metadata": {},
   "source": [
    "#### Optimisation Lasso"
   ]
  },
  {
   "cell_type": "code",
   "execution_count": null,
   "metadata": {},
   "outputs": [],
   "source": [
    "from sklearn.linear_model import LogisticRegression\n",
    "# Grille de valeurs du paramètre de pénalisation\n",
    "param = {\"C\": [0.5, 1, 5, 10, 12, 15, 30]}\n",
    "logit_lasso = GridSearchCV(LogisticRegression(penalty=\"l1\", solver='liblinear'), param, cv=5, n_jobs=-1)\n",
    "logit_lasso.fit(X_app, y_app)\n",
    "# Sélection du paramètre optimal\n",
    "logit_lasso.best_params_[\"C\"]\n",
    "print(\"Meilleur score (apprentissage) = %f, Meilleur paramètre = %s\" %\n",
    "      (1.-logit_lasso.best_score_, logit_lasso.best_params_))\n",
    "send(\"Meilleur score (apprentissage) = %f, Meilleur paramètre = %s\" %\n",
    "      (1.-logit_lasso.best_score_, logit_lasso.best_params_), 5)"
   ]
  },
  {
   "cell_type": "code",
   "execution_count": null,
   "metadata": {},
   "outputs": [],
   "source": [
    "logit_lasso"
   ]
  },
  {
   "cell_type": "markdown",
   "metadata": {},
   "source": [
    "Erreur de prévision"
   ]
  },
  {
   "cell_type": "code",
   "execution_count": null,
   "metadata": {},
   "outputs": [],
   "source": [
    "# Prévision\n",
    "y_pred = logit_lasso.predict(X_test)\n",
    "# matrice de confusion\n",
    "table = pd.crosstab(y_pred, y_test)\n",
    "print(table)\n",
    "# Erreur sur l'échantillon test\n",
    "print(\"Erreur de test régression Lasso = %f\" % (1-logit_lasso.score(X_test, y_test)))\n",
    "send(\"Erreur de test régression Lasso = %f\" % (1-logit_lasso.score(X_test, y_test)), 6)"
   ]
  },
  {
   "cell_type": "markdown",
   "metadata": {},
   "source": [
    "#### Optimisation *ridge*"
   ]
  },
  {
   "cell_type": "code",
   "execution_count": null,
   "metadata": {},
   "outputs": [],
   "source": [
    "# Grilles de valeurs du paramètre de pénalisation\n",
    "param = {\"C\":[0.5, 1, 5, 10, 12, 15, 30]}\n",
    "logit_ridge = GridSearchCV(LogisticRegression(penalty=\"l2\"), param,cv=5, n_jobs=-1)\n",
    "logit_ridge.fit(X_app, y_app)  \n",
    "# Sélection du paramètre optimal\n",
    "logit_ridge.best_params_[\"C\"]\n",
    "print(\"Meilleur score = %f, Meilleur paramètre = %s\" % (1.-logit_ridge.best_score_, logit_ridge.best_params_))\n",
    "send((\"Meilleur score = %f, Meilleur paramètre = %s\" % (1.-logit_ridge.best_score_, logit_ridge.best_params_)), 7)"
   ]
  },
  {
   "cell_type": "code",
   "execution_count": null,
   "metadata": {},
   "outputs": [],
   "source": [
    "# Prévision\n",
    "y_pred = logit_ridge.predict(X_test)\n",
    "# matrice de confusion\n",
    "table = pd.crosstab(y_pred, y_test)\n",
    "print(table)\n",
    "# Erreur sur l'échantillon test\n",
    "print(\"Erreur de test régression Ridge = %.3f\" % (1 - logit_ridge.score(X_test, y_test)))"
   ]
  },
  {
   "cell_type": "markdown",
   "metadata": {},
   "source": [
    "**Q** Noter l'erreur de prévision; Comparer avec celle estimée par validation croisée.\n",
    "\n",
    "### Interprétation\n",
    "\n",
    "L'objet LassoOpt issu de GridSearchCV retient pas les paramètres estimés dans le modèle dans un attribut nommé `best_estimator_`:"
   ]
  },
  {
   "cell_type": "code",
   "execution_count": null,
   "metadata": {},
   "outputs": [],
   "source": [
    "# Récupération des coefficients\n",
    "vect_coef = logit_ridge.best_estimator_.coef_[0]\n",
    "#Affichage des 25 plus importants\n",
    "coef = pd.Series(np.abs(vect_coef), index=X_app.columns).sort_values(ascending=False)\n",
    "print(coef)"
   ]
  },
  {
   "cell_type": "code",
   "execution_count": null,
   "metadata": {},
   "outputs": [],
   "source": [
    "plt.figure(figsize=(7,4))\n",
    "coef.plot(kind='bar')\n",
    "plt.title('Estimated coefficents with L2 logistic regression')\n",
    "plt.tight_layout()\n",
    "\n",
    "send(plt, 8)\n",
    "plt.show()"
   ]
  },
  {
   "cell_type": "markdown",
   "metadata": {},
   "source": [
    "## Plot de la performance et nombre de variables actives en fonction de la pénalité"
   ]
  },
  {
   "cell_type": "code",
   "execution_count": null,
   "metadata": {},
   "outputs": [],
   "source": [
    "# ignore warnings for better clarity (may not be the best thing to do)...\n",
    "import warnings\n",
    "warnings.filterwarnings('ignore')"
   ]
  },
  {
   "cell_type": "code",
   "execution_count": null,
   "metadata": {},
   "outputs": [],
   "source": [
    "score_test = []\n",
    "nombre_feat_act = []\n",
    "Cs = np.geomspace(1e-4, 1e4, 9)  # geometrically scaled values\n",
    "for C in Cs:\n",
    "    logreg_l1 = LogisticRegression(penalty=\"l1\", solver='liblinear', C=C)\n",
    "    logreg_l1.fit(X_app, y_app)\n",
    "    \n",
    "    # Récupération des coefficients\n",
    "    print(\n",
    "        \"Pour C= %.1e, le score sur le test est %.1f et le nombre de features ultilisées est %d\"\n",
    "        % (C, (100*logreg_l1.score(X_test, y_test)), (np.sum(logreg_l1.coef_ != 0))))\n",
    "    score_test.append(100 * logreg_l1.score(X_test, y_test))\n",
    "    nombre_feat_act.append(np.sum(logreg_l1.coef_!=0))                  \n",
    "\n",
    "fig, (ax1, ax2) = plt.subplots(1, 2, constrained_layout=True)\n",
    "ax1.semilogx(Cs, nombre_feat_act, )\n",
    "ax1.set_xlabel(\"C\")\n",
    "ax1.set_ylabel(\"Features used in model\")\n",
    "ax2.semilogx(Cs, score_test)    \n",
    "ax2.set_ylabel(\"Score on test data\")\n",
    "ax2.set_xlabel(\"C\");\n"
   ]
  },
  {
   "cell_type": "code",
   "execution_count": null,
   "metadata": {},
   "outputs": [],
   "source": [
    "# create figure and axis objects with subplots()\n",
    "fig,ax = plt.subplots()\n",
    "# make a plot\n",
    "ax.semilogx(Cs, score_test, color=\"red\", marker=\"o\")\n",
    "# set x-axis label\n",
    "ax.set_xlabel(\"C\", fontsize=14)\n",
    "# set y-axis label\n",
    "ax.set_ylabel(\"score_test\",color=\"red\", fontsize=14)\n",
    "\n",
    "# twin object for two different y-axis on the sample plot\n",
    "ax2=ax.twinx()\n",
    "# make a plot with different y-axis using second axis object\n",
    "ax2.semilogx(Cs, nombre_feat_act ,color=\"blue\", marker=\"o\")\n",
    "ax2.set_ylabel(\"Nombre_features_act\",color=\"blue\",fontsize=14)\n",
    "plt.show()"
   ]
  },
  {
   "cell_type": "markdown",
   "metadata": {},
   "source": [
    "**Q** Quelles sont les variables importantes? Comment interpréter?\n",
    "\n",
    "**Q** La pénalisation Lasso est-elle effective?\n",
    "\n",
    "Il serait intéressant de comparer acec les versions *ridge* et *elestic net* d'optiisation du modèle.\n",
    "\n",
    "### Courbe ROC"
   ]
  },
  {
   "cell_type": "code",
   "execution_count": null,
   "metadata": {},
   "outputs": [],
   "source": [
    "from sklearn.metrics import roc_curve\n",
    "list_methods = [[\"Lasso\", logit_lasso], [\"Ridge\", logit_ridge]]\n",
    "\n",
    "for idx, method in enumerate(list_methods):\n",
    "    probas_ = method[1].predict_proba(X_test)\n",
    "    fpr, tpr, thresholds = roc_curve(y_test, probas_[:,1])\n",
    "    plt.plot(fpr, tpr, lw=1, label=\"%s\" % method[0])\n",
    "plt.xlabel('Taux de faux positifs')\n",
    "plt.ylabel('Taux de vrais positifs')\n",
    "plt.legend(loc=\"best\")\n",
    "send(plt, 8)\n",
    "plt.show()"
   ]
  },
  {
   "cell_type": "markdown",
   "metadata": {},
   "source": [
    "## Analyse discriminante\n",
    "Trois méthodes sont disponibles: paramétrique linéaire ou quadratique et non paramétrique (*k* plus proches voisins)."
   ]
  },
  {
   "cell_type": "code",
   "execution_count": null,
   "metadata": {},
   "outputs": [],
   "source": [
    "from sklearn import discriminant_analysis\n",
    "from sklearn.neighbors import KNeighborsClassifier"
   ]
  },
  {
   "cell_type": "markdown",
   "metadata": {},
   "source": [
    "### Dicriminante linéaire\n",
    "Estimation du modèle; il n'y a pas de procédure de sélection de variables proposées. Puis prévision de l'échantillon test."
   ]
  },
  {
   "cell_type": "code",
   "execution_count": null,
   "metadata": {},
   "outputs": [],
   "source": [
    "lda = discriminant_analysis.LinearDiscriminantAnalysis()\n",
    "lda.fit(X_app, y_app)\n",
    "# Prévision de l'échantillon test\n",
    "y_pred = lda.predict(X_test)\n",
    "# matrice de confusion\n",
    "table = pd.crosstab(y_pred, y_test)\n",
    "print(table)\n",
    "# Erreur de prévision sur le test\n",
    "print(\"Erreur de test lda = %f\" % (1 -lda.score(X_test, y_test)))"
   ]
  },
  {
   "cell_type": "markdown",
   "metadata": {},
   "source": [
    "**Q** Que dire de la qualité? Des possibilités d'interprétation?\n",
    "\n",
    "**Q** Que signifie le *warning*? Quelles variables osnt en cause?\n",
    "### Discriminante quadratique"
   ]
  },
  {
   "cell_type": "code",
   "execution_count": null,
   "metadata": {},
   "outputs": [],
   "source": [
    "qda = discriminant_analysis.QuadraticDiscriminantAnalysis()\n",
    "qda.fit(X_app, y_app)"
   ]
  },
  {
   "cell_type": "code",
   "execution_count": null,
   "metadata": {},
   "outputs": [],
   "source": [
    "# Prévision de l'échantillon test\n",
    "y_pred = qda.predict(X_test)\n",
    "# matrice de confusion\n",
    "table = pd.crosstab(y_pred, y_test)\n",
    "print(table)\n",
    "# Erreur de prévision sur le test\n",
    "print(\"Erreur de test qda = %f\" % (1-qda.score(X_test, y_test)))"
   ]
  },
  {
   "cell_type": "markdown",
   "metadata": {},
   "source": [
    "### K plus proches voisins"
   ]
  },
  {
   "cell_type": "code",
   "execution_count": null,
   "metadata": {},
   "outputs": [],
   "source": [
    "# Définition du modèle, entraînement\n",
    "knn = KNeighborsClassifier(n_neighbors=10)\n",
    "knn.fit(X_app, y_app)\n",
    "# Prévision de l'échantillon test\n",
    "y_pred = knn.predict(X_test)\n",
    "# matrice de confusion\n",
    "table = pd.crosstab(y_pred, y_test)\n",
    "print(table)\n",
    "# Erreur de prévision sur le test\n",
    "print(\"Erreur de test knn = %f\" % (1 - knn.score(X_test, y_test)))\n",
    "send((\"Erreur de test knn = %f\" % (1 - knn.score(X_test,y_test))), 11)"
   ]
  },
  {
   "cell_type": "code",
   "execution_count": null,
   "metadata": {},
   "outputs": [],
   "source": [
    "#Optimisation du paramètre de complexité k\n",
    "#Grille de valeurs\n",
    "param_grid = {\"n_neighbors\":list(range(1, 15))}\n",
    "knn_cv = GridSearchCV(KNeighborsClassifier(), param_grid, cv=5, n_jobs=-1)\n",
    "knn_cv.fit(X_app, y_app) # GridSearchCV est lui même un estimateur\n",
    "# paramètre optimal\n",
    "knn_cv.best_params_[\"n_neighbors\"]\n",
    "print(\"Meilleur score = %f, Meilleur paramètre = %s\" % (1.-knn_cv.best_score_, knn_cv.best_params_))"
   ]
  },
  {
   "cell_type": "code",
   "execution_count": null,
   "metadata": {},
   "outputs": [],
   "source": [
    "# Prévision de l'échantillon test\n",
    "y_pred = knn_cv.predict(X_test)\n",
    "# matrice de confusion\n",
    "table = pd.crosstab(y_pred, y_test)\n",
    "print(table)\n",
    "\n",
    "# Estimation de l'erreur de prévision sur l'échantillon test\n",
    "print(\"Erreur de test knn_opt = %f\" % (1-knn_cv.score(X_test, y_test)))"
   ]
  },
  {
   "cell_type": "markdown",
   "metadata": {},
   "source": [
    "Courbes ROC"
   ]
  },
  {
   "cell_type": "code",
   "execution_count": null,
   "metadata": {},
   "outputs": [],
   "source": [
    "from sklearn.metrics import roc_curve\n",
    "# Liste des méthodes\n",
    "list_methods = [[\"lda\", lda], [\"qda\", qda], [\"knn\", knn_cv]]\n",
    "# Tracé des courbes\n",
    "for idx, method in enumerate(list_methods):\n",
    "    probas_ = method[1].predict_proba(X_test)\n",
    "    fpr, tpr, thresholds = roc_curve(y_test, probas_[:,1])\n",
    "    plt.plot(fpr, tpr, lw=1, label=\"%s\" % method[0])\n",
    "    \n",
    "plt.xlabel('Taux de faux positifs')\n",
    "plt.ylabel('Taux de vrais positifs')\n",
    "plt.legend(loc=\"best\")\n",
    "plt.show()"
   ]
  },
  {
   "cell_type": "markdown",
   "metadata": {},
   "source": [
    "## [Arbres binaires de décision](http://wikistat.fr/pdf/st-m-app-cart.pdf)\n",
    "Les arbres binaires de décision concurrencent la régression logistique et gardent une place de choix dans les services de Gestion de la Relation Client, maintenant de *Science des Données*, par la facilité d'interprétation des modèles qui en découlent. L'optimisation de la complexité d'un artbre peut être délicate à opérer cr très sensible aux fluctuations de l'échantillon."
   ]
  },
  {
   "cell_type": "code",
   "execution_count": null,
   "metadata": {},
   "outputs": [],
   "source": [
    "from sklearn.tree import DecisionTreeClassifier"
   ]
  },
  {
   "cell_type": "code",
   "execution_count": null,
   "metadata": {},
   "outputs": [],
   "source": [
    "# définition du modèle\n",
    "tree = DecisionTreeClassifier()\n",
    "tree.fit(X_app, y_app)"
   ]
  },
  {
   "cell_type": "code",
   "execution_count": null,
   "metadata": {},
   "outputs": [],
   "source": [
    "tree"
   ]
  },
  {
   "cell_type": "markdown",
   "metadata": {},
   "source": [
    "**Q** Quel est le critère d'homogénéité des noeuds utilisé par défaut?\n",
    "Gini !"
   ]
  },
  {
   "cell_type": "code",
   "execution_count": null,
   "metadata": {},
   "outputs": [],
   "source": [
    "# Optimisation de la profondeur de l'arbre\n",
    "param = {\"max_depth\": list(range(2,20))}\n",
    "tree_cv = GridSearchCV(DecisionTreeClassifier(), param, cv=10, n_jobs=-1)\n",
    "tree_cv.fit(X_app, y_app)\n",
    "# paramètre optimal\n",
    "print(\"Meilleur score = %f, Meilleur paramètre = %s\" % (1. - tree_cv.best_score_, tree_cv.best_params_))"
   ]
  },
  {
   "cell_type": "code",
   "execution_count": null,
   "metadata": {},
   "outputs": [],
   "source": [
    "# Prévision de l'échantillon test\n",
    "y_pred = tree_cv.predict(X_test)\n",
    "# matrice de confusion\n",
    "table = pd.crosstab(y_pred, y_test)\n",
    "print(table)# Erreur de prévision sur le test\n",
    "print(\"Erreur de test tree qualitatif = %f\" % (1-tree_cv.score(X_test, y_test)))"
   ]
  },
  {
   "cell_type": "code",
   "execution_count": null,
   "metadata": {},
   "outputs": [],
   "source": [
    "from sklearn.tree import export_graphviz\n",
    "from sklearn.tree import DecisionTreeClassifier, plot_tree\n",
    "from six import StringIO  \n",
    "\n",
    "treeG = tree_cv.best_estimator_\n",
    "#dot_data = StringIO() \n",
    "#export_graphviz(treeG, out_file=dot_data) \n",
    "#graph=pydotplus.graph_from_dot_data(dot_data.getvalue()) \n",
    "#graph.write_png(\"treeOpt.png\")  \n",
    "plt.figure(figsize=(20,10))\n",
    "plot_tree(treeG, feature_names = X_app.columns, \n",
    "               class_names=['No_card', 'Visa'],\n",
    "               filled = True)\n",
    "plt.savefig('treeOpt.png')"
   ]
  },
  {
   "cell_type": "code",
   "execution_count": null,
   "metadata": {
    "scrolled": true
   },
   "outputs": [],
   "source": [
    "from IPython.display import Image\n",
    "Image(filename='treeOpt.png')"
   ]
  },
  {
   "cell_type": "markdown",
   "metadata": {},
   "source": [
    "### [Courbes ROC](http://wikistat.fr/pdf/st-m-app-risque.pdf)\n",
    "Comparaison des méthodes précédentes.\n",
    "\n",
    "La valeur de seuil par défaut (0.5) n'étant pas nécessairement celle \"optimale\", il est important de comparer les courbes ROC."
   ]
  },
  {
   "cell_type": "code",
   "execution_count": null,
   "metadata": {},
   "outputs": [],
   "source": [
    "# Liste des méthodes\n",
    "list_methods = [[\"Logit\", logit_lasso],[\"lda\", lda], [\"Arbre\", treeG]]\n",
    "# Tracé des courbes\n",
    "for idx, method in enumerate(list_methods):\n",
    "    probas_ = method[1].predict_proba(X_test)\n",
    "    fpr, tpr, thresholds = roc_curve(y_test, probas_[:, 1])\n",
    "    plt.plot(fpr, tpr, lw=1, label=\"%s\" % method[0])\n",
    "plt.xlabel('Taux de faux positifs')\n",
    "plt.ylabel('Taux de vrais positifs')\n",
    "plt.legend(loc=\"best\")\n",
    "plt.show()"
   ]
  },
  {
   "cell_type": "markdown",
   "metadata": {},
   "source": [
    "Commenter les résultats.\n",
    "\n",
    "**Q** Intérêt de la régression logistique par rapport à l'analyse discriminante linéaire?\n",
    "\n",
    "\n",
    "\n",
    "L'échantillon test reste de taille modeste (200). une étude plus systématique est nécessaire ainsi que la prise en compte des autres méthodes."
   ]
  },
  {
   "cell_type": "markdown",
   "metadata": {},
   "source": [
    "## [Algorithmes d'agrégation de modèles](http://wikistat.fr/pdf/st-m-app-agreg.pdf)\n",
    "Il s'agit de comparer les principaux algorithmes issus de l'apprentissage machine: *bagging, random forest, boosting*.\n",
    "\n",
    "### *Bagging*\n",
    "\n",
    "**Q** Quel est par défaut l'estimateur qui est agrégé? \n",
    "\n",
    "**Q** Quel est le nombre d'estimateurs par défaut? Est-il nécessaire de l'optimiser?"
   ]
  },
  {
   "cell_type": "code",
   "execution_count": null,
   "metadata": {},
   "outputs": [],
   "source": [
    "from sklearn.ensemble import BaggingClassifier\n",
    "bag = BaggingClassifier(n_estimators=100, oob_score=False)\n",
    "bag.fit(X_app, y_app)\n",
    "# Prévision de l'échantillon test\n",
    "y_pred = bag.predict(X_test)\n",
    "# matrice de confusion\n",
    "table = pd.crosstab(y_pred, y_test)\n",
    "print(table)\n",
    "\n",
    "# Erreur de prévision sur le test\n",
    "print(\"Erreur de test avec le bagging = %f\" % (1 - bag.score(X_test, y_test)))"
   ]
  },
  {
   "cell_type": "markdown",
   "metadata": {},
   "source": [
    "**Q** Exécuter plusieurs fois la cellule ci-dessus. Que penser de la stabilité de l'estimation de l'erreur et donc de sa fiabilité?\n",
    "\n",
    "### *Random forest*\n",
    "\n",
    "**Q** Quel paramètre doit être optimisé pour cet algorithme? Quel est sa valeur par défaut?\n",
    "\n",
    "**Q** Le nombre d'arbres de la forêt est-il un paramètre sensible?"
   ]
  },
  {
   "cell_type": "code",
   "execution_count": null,
   "metadata": {},
   "outputs": [],
   "source": [
    "from sklearn.ensemble import RandomForestClassifier"
   ]
  },
  {
   "cell_type": "code",
   "execution_count": null,
   "metadata": {},
   "outputs": [],
   "source": [
    "# Optimisation de max_features\n",
    "param = {\"max_features\": list(range(2, 36, 4))}\n",
    "rf_cv = GridSearchCV(RandomForestClassifier(n_estimators=100),param,cv=5,n_jobs=-1)\n",
    "rf_cv.fit(X_app, y_app)\n",
    "# paramètre optimal\n",
    "print(\"Meilleur score = %f, Meilleur paramètre = %s\" % (1. - rf_cv.best_score_, rf_cv.best_params_))"
   ]
  },
  {
   "cell_type": "code",
   "execution_count": null,
   "metadata": {},
   "outputs": [],
   "source": [
    "# Prévision de l'échantillon test\n",
    "y_pred = rf_cv.predict(X_test)\n",
    "\n",
    "# matrice de confusion\n",
    "table = pd.crosstab(y_pred, y_test)\n",
    "print(table)\n",
    "\n",
    "# Erreur de prévision sur le test\n",
    "print(\"Erreur de test random forest opt -quantitatif = %f\" % (1 - rf_cv.score(X_test, y_test)))"
   ]
  },
  {
   "cell_type": "code",
   "execution_count": null,
   "metadata": {},
   "outputs": [],
   "source": [
    "rf = RandomForestClassifier(n_estimators=100)\n",
    "rf.fit(X_app, y_app)"
   ]
  },
  {
   "cell_type": "code",
   "execution_count": null,
   "metadata": {},
   "outputs": [],
   "source": [
    "importances = rf.feature_importances_"
   ]
  },
  {
   "cell_type": "code",
   "execution_count": null,
   "metadata": {},
   "outputs": [],
   "source": [
    "print(\"Feature ranking:\")\n",
    "\n",
    "std = np.std([tree.feature_importances_ for tree in rf.estimators_],\n",
    "             axis=0)\n",
    "indices = np.argsort(importances)[::-1]\n",
    "\n",
    "for f in range(X_app.shape[1]):\n",
    "    print(\"%d. feature %s (%f)\" % (f + 1, X_app.columns[indices[f]], importances[indices[f]]))"
   ]
  },
  {
   "cell_type": "markdown",
   "metadata": {},
   "source": [
    "### *Gradient boosting*\n",
    "\n",
    "**Q** Quel est l'algorithme de *boosting* historique? Lequel est utilisé ici?\n",
    "\n",
    "**Q** Quels sont les paramètres qu'il est important de contrôler, optimiser?\n",
    "\n",
    "**Q** Quelle est la valeur par défaut de celui non optimisé ci-dessous?"
   ]
  },
  {
   "cell_type": "code",
   "execution_count": null,
   "metadata": {},
   "outputs": [],
   "source": [
    "from sklearn.ensemble import GradientBoostingClassifier\n",
    "# Optimisation de deux paramètres\n",
    "paramGrid = [\n",
    "  {'n_estimators': list(range(100, 601, 50)), 'learning_rate': [0.1, 0.2, 0.3, 0.4]}\n",
    " ]\n",
    "gbm= GridSearchCV(GradientBoostingClassifier(), \n",
    "                  paramGrid, cv=5, n_jobs=-1,verbose=2)\n",
    "gbm.fit(X_app, y_app)\n",
    "# paramètre optimal\n",
    "print(\"Meilleur score = %f, Meilleur paramètre = %s\" % (1. - gbm.best_score_, gbm.best_params_))"
   ]
  },
  {
   "cell_type": "code",
   "execution_count": null,
   "metadata": {},
   "outputs": [],
   "source": [
    "# Prévision de l'échantillon test\n",
    "y_pred = gbm.predict(X_test)\n",
    "# matrice de confusion\n",
    "table = pd.crosstab(y_pred, y_test)\n",
    "print(table)\n",
    "\n",
    "# Erreur de prévision sur le test\n",
    "print(\"Erreur de test gbm opt = %f\" % (1 - gbm.score(X_test, y_test)))"
   ]
  },
  {
   "cell_type": "markdown",
   "metadata": {},
   "source": [
    "### Courbes ROC"
   ]
  },
  {
   "cell_type": "code",
   "execution_count": null,
   "metadata": {},
   "outputs": [],
   "source": [
    "# Liste des méthodes\n",
    "list_methods = [[\"Logit\",logit_lasso], [\"lda\", lda], [\"Arbre\", treeG], \n",
    "                [\"RF\", rf_cv], [\"GBM\", gbm]]\n",
    "# Tracé des courbes\n",
    "for idx, method in enumerate(list_methods):\n",
    "    probas_ = method[1].predict_proba(X_test)\n",
    "    fpr, tpr, thresholds = roc_curve(y_test, probas_[:, 1])\n",
    "    plt.plot(fpr, tpr, lw=1,label=\"%s\" % method[0])\n",
    "    \n",
    "plt.xlabel('Taux de faux positifs')\n",
    "plt.ylabel('Taux de vrais positifs')\n",
    "plt.legend(loc=\"best\")\n",
    "plt.show()"
   ]
  },
  {
   "cell_type": "markdown",
   "metadata": {},
   "source": [
    "**Q** Quelles meilleure méthode interprétable? Quelle meilleure méthode?\n",
    "\n",
    "**Q** Que dire de l'*extrem gradient boosting* ? Du nombre de paramètres à optimiser? De son implémentation en Python par rapport à R? \n",
    "\n",
    "**Exercice** Ajouter les réseaux de neurones et les SVM dans la comparaison."
   ]
  },
  {
   "cell_type": "markdown",
   "metadata": {},
   "source": [
    "## [Validation croisée *Monte Carlo*](http://wikistat.fr/pdf/st-m-app-risque-estim.pdf)\n",
    "L'échantillon est de faible taille (#200), et les estimations des taux de bien classés comme le tracé des courbes ROC sont très dépendants de l’échantillon test; on peut s’interroger sur l’identité du modèle le plus performant ainsi que sur la significativité des différences observées entre les méthodes. Il est donc important d’itérer le processus (validation croisée *Monte Carlo*) sur plusieurs échantillons tests. Exécuter la fonction en annexe en choisissant les méthodes semblant les plus performantes. "
   ]
  },
  {
   "cell_type": "code",
   "execution_count": null,
   "metadata": {},
   "outputs": [],
   "source": [
    "from sklearn.utils import check_random_state\n",
    "import time\n",
    "check_random_state(13)\n",
    "tps0 = time.perf_counter()\n",
    "# définition des estimateurs\n",
    "logit = LogisticRegression(penalty=\"l1\", solver='liblinear')\n",
    "lda = discriminant_analysis.LinearDiscriminantAnalysis()\n",
    "arbre = DecisionTreeClassifier()\n",
    "rf = RandomForestClassifier(n_estimators=200)\n",
    "gbm = GradientBoostingClassifier()\n",
    "# Nombre d'itérations\n",
    "B = 2 # pour utiliser le programme, mettre plutôt B=30\n",
    "# définition des grilles de paramètres\n",
    "listMethGrid=[\n",
    "    [logit, {\"C\":[0.5, 1, 5, 10, 12, 15, 30]}],\n",
    "    [lda, {}],\n",
    "    [arbre, {\"max_depth\":[2, 3, 4, 5, 6, 7, 8, 9, 10]}],\n",
    "    [rf, {\"max_features\":[2, 3, 4, 5, 6]}],\n",
    "    [gbm, {\"n_estimators\": list(range(100, 601, 50)),\"learning_rate\": [0.1, 0.2, 0.3, 0.4]}]\n",
    "    ]\n",
    "# Initialisation à 0 des erreurs pour chaque méthode (colonne) et chaque itération (ligne)\n",
    "errors = np.zeros([B, 5])\n",
    "for i in range(B):   # itérations sur B échantillons test\n",
    "    # extraction apprentissage et test\n",
    "    X_app, X_test, y_app, y_test = train_test_split(vispremR, y, test_size=200)\n",
    "    # optimisation de chaque méthode et calcul de l'erreur sur le test\n",
    "    for j, (method, grid_list) in enumerate(listMethGrid):\n",
    "        method_cv = GridSearchCV(method, grid_list, cv=5, n_jobs=-1).fit(X_app, y_app)\n",
    "        method_opt = method_cv.best_estimator_\n",
    "        method_opt.fit(X_app, y_app)  # this should be done already in method_cv.fit\n",
    "        errors[i, j] = 1 - method_opt.score(X_test, y_test)\n",
    "\n",
    "tps1 = time.perf_counter()\n",
    "print(\"Temps execution en mn : %.2f\" % (tps1 - tps0) / 60)"
   ]
  },
  {
   "cell_type": "code",
   "execution_count": null,
   "metadata": {},
   "outputs": [],
   "source": [
    "error_df = pd.DataFrame(errors, columns=[\"Logit\", \"LDA\", \"Arbre\", \"RF\", \"GBM\"])"
   ]
  },
  {
   "cell_type": "code",
   "execution_count": null,
   "metadata": {},
   "outputs": [],
   "source": [
    "# Distribution des erreurs\n",
    "error_df[[\"Logit\", \"LDA\", \"Arbre\", \"RF\", \"GBM\"]].boxplot(return_type='dict')\n",
    "plt.show()"
   ]
  },
  {
   "cell_type": "markdown",
   "metadata": {},
   "source": [
    "**Q** Finalement, quelle meilleure méthode? Quelle meilleure méthode interprétable?\n",
    "\n",
    "**Exercice**: tester `XGBoost`."
   ]
  },
  {
   "cell_type": "code",
   "execution_count": null,
   "metadata": {},
   "outputs": [],
   "source": [
    "# Moyennes\n",
    "error_df.mean()"
   ]
  },
  {
   "cell_type": "code",
   "execution_count": null,
   "metadata": {},
   "outputs": [],
   "source": []
  }
 ],
 "metadata": {
  "kernelspec": {
   "display_name": "Python 3",
   "language": "python",
   "name": "python3"
  },
  "language_info": {
   "codemirror_mode": {
    "name": "ipython",
    "version": 3
   },
   "file_extension": ".py",
   "mimetype": "text/x-python",
   "name": "python",
   "nbconvert_exporter": "python",
   "pygments_lexer": "ipython3",
   "version": "3.8.6"
  }
 },
 "nbformat": 4,
 "nbformat_minor": 1
}
